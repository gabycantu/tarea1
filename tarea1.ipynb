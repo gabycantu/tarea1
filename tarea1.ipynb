{
 "cells": [
  {
   "cell_type": "code",
   "execution_count": null,
   "metadata": {},
   "outputs": [],
   "source": [
    "import pandas as pd\n",
    "import numpy as np\n",
    "import matplotlib.pyplot as plt\n",
    "import pandas as pd\n",
    "import seaborn as sns\n",
    "import statsmodels.formula.api as smf"
   ]
  },
  {
   "cell_type": "code",
   "execution_count": null,
   "metadata": {},
   "outputs": [],
   "source": [
    "#Se carga y visualiza la base de datos\n",
    "df= pd.read_csv(\"diamonds.csv\")\n",
    "df.head(5)"
   ]
  },
  {
   "cell_type": "code",
   "execution_count": null,
   "metadata": {},
   "outputs": [],
   "source": [
    "#Identificar valores nulos\n",
    "valores_nulos=df.isnull().sum()\n",
    "valores_nulos"
   ]
  },
  {
   "cell_type": "code",
   "execution_count": null,
   "metadata": {},
   "outputs": [],
   "source": [
    "#Rellenar con el valor de media de la columna los valores nulos de la columna \"carat\" tomando en cuenta 2 decimales ya que así se encuentran en la base de datos\n",
    "df[\"carat\"]=df[\"carat\"].fillna(round(df[\"carat\"].mean(),2))\n",
    "df"
   ]
  },
  {
   "cell_type": "code",
   "execution_count": null,
   "metadata": {},
   "outputs": [],
   "source": [
    "#Identificar valores nulos\n",
    "valores_nulos=df.isnull().sum()\n",
    "valores_nulos"
   ]
  },
  {
   "cell_type": "code",
   "execution_count": null,
   "metadata": {},
   "outputs": [],
   "source": [
    "#Rellenar con el valor de mediana de la columna los valores nulos de la columna \"depth\" con un decimal para continuar con el formato de la base de datos\n",
    "df[\"depth\"]=df[\"depth\"].fillna(round(df[\"depth\"].median(),1))\n",
    "df"
   ]
  },
  {
   "cell_type": "code",
   "execution_count": null,
   "metadata": {},
   "outputs": [],
   "source": [
    "#Identificar valores nulos\n",
    "valores_nulos=df.isnull().sum()\n",
    "valores_nulos"
   ]
  },
  {
   "cell_type": "code",
   "execution_count": null,
   "metadata": {},
   "outputs": [],
   "source": [
    "#Rellenar con el valor de mediana de la columna los valores nulos de la columna \"table\" con 0 decimales ya que en la base de datos original está en enteros\n",
    "df[\"table\"]=df[\"table\"].fillna(round(df[\"table\"].median(),0))\n",
    "df"
   ]
  },
  {
   "cell_type": "code",
   "execution_count": null,
   "metadata": {},
   "outputs": [],
   "source": [
    "#Identificar valores nulos\n",
    "valores_nulos=df.isnull().sum()\n",
    "valores_nulos"
   ]
  },
  {
   "cell_type": "code",
   "execution_count": null,
   "metadata": {},
   "outputs": [],
   "source": [
    "#Rellenar con el valor anterior de la columna los valores nulos de la columna \"price\" ya que se puede observar en la base de datos que van en orden\n",
    "df[\"price\"]=df[\"price\"].fillna(method=\"bfill\")\n",
    "df"
   ]
  },
  {
   "cell_type": "code",
   "execution_count": null,
   "metadata": {},
   "outputs": [],
   "source": [
    "#Identificar valores nulos\n",
    "valores_nulos=df.isnull().sum()\n",
    "valores_nulos"
   ]
  },
  {
   "cell_type": "code",
   "execution_count": null,
   "metadata": {},
   "outputs": [],
   "source": [
    "#Rellenar con el valor de mediana de la columna los valores nulos de la columna \"x\" con 2 decimales para continuar con el mismo formato \n",
    "df[\"x\"]=df[\"x\"].fillna(round(df[\"x\"].median(),2))\n",
    "df"
   ]
  },
  {
   "cell_type": "code",
   "execution_count": null,
   "metadata": {},
   "outputs": [],
   "source": [
    "#Identificar valores nulos\n",
    "valores_nulos=df.isnull().sum()\n",
    "valores_nulos"
   ]
  },
  {
   "cell_type": "code",
   "execution_count": null,
   "metadata": {},
   "outputs": [],
   "source": [
    "#Rellenar con el valor de media de la columna los valores nulos de la columna \"y\" con dos decimales para continuar con el mismo formato\n",
    "df[\"y\"]=df[\"y\"].fillna(round(df[\"y\"].mean(),2))\n",
    "df"
   ]
  },
  {
   "cell_type": "code",
   "execution_count": null,
   "metadata": {},
   "outputs": [],
   "source": [
    "#Identificar valores nulos\n",
    "valores_nulos=df.isnull().sum()\n",
    "valores_nulos"
   ]
  },
  {
   "cell_type": "code",
   "execution_count": null,
   "metadata": {},
   "outputs": [],
   "source": [
    "#Rellenar con el valor de media de la columna los valores nulos de la columna \"z\" con dos decimales para continuar con el mismo formato\n",
    "df[\"z\"]=df[\"z\"].fillna(round(df[\"z\"].mean(),2))\n",
    "df"
   ]
  },
  {
   "cell_type": "code",
   "execution_count": null,
   "metadata": {},
   "outputs": [],
   "source": [
    "#Identificar valores nulos\n",
    "valores_nulos=df.isnull().sum()\n",
    "valores_nulos"
   ]
  },
  {
   "cell_type": "code",
   "execution_count": null,
   "metadata": {},
   "outputs": [],
   "source": [
    "#Asegurar que ya no hay datos nulos en toda la base de datos\n",
    "cuenta_nulos= df.isnull().sum().sum()\n",
    "cuenta_nulos"
   ]
  },
  {
   "cell_type": "code",
   "execution_count": null,
   "metadata": {},
   "outputs": [],
   "source": [
    "#Se define model como la función de regresión lineal\n",
    "from sklearn.linear_model import LinearRegression"
   ]
  },
  {
   "cell_type": "code",
   "execution_count": null,
   "metadata": {},
   "outputs": [],
   "source": [
    "#Definir las variables independiente y dependiente para construir un modelo lineal en el que se observará la relación de ambas variables\n",
    "Vars_Indep1= df[['carat']]\n",
    "Var_Dep1= df['price']"
   ]
  },
  {
   "cell_type": "code",
   "execution_count": null,
   "metadata": {},
   "outputs": [],
   "source": [
    "#Definir el tipo de modelo \n",
    "model=LinearRegression()"
   ]
  },
  {
   "cell_type": "code",
   "execution_count": null,
   "metadata": {},
   "outputs": [],
   "source": [
    "type(model)\n",
    "model.fit(X=Vars_Indep1, y=Var_Dep1)"
   ]
  },
  {
   "cell_type": "code",
   "execution_count": null,
   "metadata": {},
   "outputs": [],
   "source": [
    "#Encontrar el coeficiente de correlación \n",
    "model.score(X=Vars_Indep1, y=Var_Dep1)"
   ]
  },
  {
   "cell_type": "code",
   "execution_count": null,
   "metadata": {},
   "outputs": [],
   "source": [
    "#Definir las variables independiente y dependiente para construir un modelo lineal en el que se observará la relación de ambas variables\n",
    "Vars_Indep2= df[['depth']]\n",
    "Var_Dep2= df['price']"
   ]
  },
  {
   "cell_type": "code",
   "execution_count": null,
   "metadata": {},
   "outputs": [],
   "source": [
    "model1=LinearRegression()"
   ]
  },
  {
   "cell_type": "code",
   "execution_count": null,
   "metadata": {},
   "outputs": [],
   "source": [
    "type(model1)\n",
    "model1.fit(X=Vars_Indep2, y=Var_Dep2)"
   ]
  },
  {
   "cell_type": "code",
   "execution_count": null,
   "metadata": {},
   "outputs": [],
   "source": [
    "#Encontrar el coeficiente de correlación \n",
    "model1.score(X=Vars_Indep2, y=Var_Dep2)"
   ]
  },
  {
   "cell_type": "code",
   "execution_count": null,
   "metadata": {},
   "outputs": [],
   "source": [
    "#Definir las variables independiente y dependiente para construir un modelo lineal en el que se observará la relación de ambas variables\n",
    "Vars_Indep3= df[['table']]\n",
    "Var_Dep3= df['price']"
   ]
  },
  {
   "cell_type": "code",
   "execution_count": null,
   "metadata": {},
   "outputs": [],
   "source": [
    "model3=LinearRegression()"
   ]
  },
  {
   "cell_type": "code",
   "execution_count": null,
   "metadata": {},
   "outputs": [],
   "source": [
    "type(model3)\n",
    "model3.fit(X=Vars_Indep3, y=Var_Dep3)"
   ]
  },
  {
   "cell_type": "code",
   "execution_count": null,
   "metadata": {},
   "outputs": [],
   "source": [
    "#Encontrar el coeficiente de correlacicón \n",
    "model3.score(X=Vars_Indep3, y=Var_Dep3)"
   ]
  },
  {
   "cell_type": "code",
   "execution_count": null,
   "metadata": {},
   "outputs": [],
   "source": [
    "#Definir las variables independiente y dependiente para construir un modelo lineal en el que se observará la relación de ambas variables\n",
    "Vars_Indep31= df[['x']]\n",
    "Var_Dep31= df['price']"
   ]
  },
  {
   "cell_type": "code",
   "execution_count": null,
   "metadata": {},
   "outputs": [],
   "source": [
    "model31=LinearRegression()"
   ]
  },
  {
   "cell_type": "code",
   "execution_count": null,
   "metadata": {},
   "outputs": [],
   "source": [
    "type(model31)\n",
    "model31.fit(X=Vars_Indep31, y=Var_Dep31)"
   ]
  },
  {
   "cell_type": "code",
   "execution_count": null,
   "metadata": {},
   "outputs": [],
   "source": [
    "#Encontrar el coeficiente de correlacicón \n",
    "model31.score(X=Vars_Indep31, y=Var_Dep31)"
   ]
  },
  {
   "cell_type": "code",
   "execution_count": null,
   "metadata": {},
   "outputs": [],
   "source": [
    "#Definir las variables independiente y dependiente para construir un modelo lineal en el que se observará la relación de ambas variables\n",
    "Vars_Indep32= df[['y']]\n",
    "Var_Dep32= df['price']"
   ]
  },
  {
   "cell_type": "code",
   "execution_count": null,
   "metadata": {},
   "outputs": [],
   "source": [
    "model32=LinearRegression()"
   ]
  },
  {
   "cell_type": "code",
   "execution_count": null,
   "metadata": {},
   "outputs": [],
   "source": [
    "type(model32)\n",
    "model32.fit(X=Vars_Indep32, y=Var_Dep32)"
   ]
  },
  {
   "cell_type": "code",
   "execution_count": null,
   "metadata": {},
   "outputs": [],
   "source": [
    "#Encontrar el coeficiente de correlacicón \n",
    "model32.score(X=Vars_Indep32, y=Var_Dep32)"
   ]
  },
  {
   "cell_type": "code",
   "execution_count": null,
   "metadata": {},
   "outputs": [],
   "source": [
    "#Definir las variables independiente y dependiente para construir un modelo lineal en el que se observará la relación de ambas variables\n",
    "Vars_Indep33= df[['z']]\n",
    "Var_Dep33= df['price']"
   ]
  },
  {
   "cell_type": "code",
   "execution_count": null,
   "metadata": {},
   "outputs": [],
   "source": [
    "model33=LinearRegression()"
   ]
  },
  {
   "cell_type": "code",
   "execution_count": null,
   "metadata": {},
   "outputs": [],
   "source": [
    "type(model33)\n",
    "model33.fit(X=Vars_Indep33, y=Var_Dep33)"
   ]
  },
  {
   "cell_type": "code",
   "execution_count": null,
   "metadata": {},
   "outputs": [],
   "source": [
    "#Encontrar el coeficiente de correlacicón \n",
    "model33.score(X=Vars_Indep33, y=Var_Dep33)"
   ]
  },
  {
   "cell_type": "code",
   "execution_count": null,
   "metadata": {},
   "outputs": [],
   "source": [
    "#Definimos la función del modelo de predicción\n",
    "model4=smf.ols(formula=\"price~carat+depth\", data=df).fit()\n",
    "model4.params"
   ]
  },
  {
   "cell_type": "code",
   "execution_count": null,
   "metadata": {},
   "outputs": [],
   "source": [
    "model4.summary()"
   ]
  },
  {
   "cell_type": "code",
   "execution_count": null,
   "metadata": {},
   "outputs": [],
   "source": [
    "#Calculamos el coeficiente de correlación R \n",
    "coef_Correl4= np.sqrt(0.851)\n",
    "coef_Correl4"
   ]
  },
  {
   "cell_type": "code",
   "execution_count": null,
   "metadata": {},
   "outputs": [],
   "source": [
    "#Definimos la función del modelo de predicción\n",
    "model5=smf.ols(formula=\"price~carat+table\", data=df).fit()\n",
    "model5.params"
   ]
  },
  {
   "cell_type": "code",
   "execution_count": null,
   "metadata": {},
   "outputs": [],
   "source": [
    "model5.summary()"
   ]
  },
  {
   "cell_type": "code",
   "execution_count": null,
   "metadata": {},
   "outputs": [],
   "source": [
    "#Calculamos el coeficiente de correlación R \n",
    "coef_Correl5= np.sqrt(0.851)\n",
    "coef_Correl5"
   ]
  },
  {
   "cell_type": "code",
   "execution_count": null,
   "metadata": {},
   "outputs": [],
   "source": [
    "#Definimos la función del modelo de predicción\n",
    "model6=smf.ols(formula=\"price~depth+table\", data=df).fit()\n",
    "model6.params"
   ]
  },
  {
   "cell_type": "code",
   "execution_count": null,
   "metadata": {},
   "outputs": [],
   "source": [
    "model6.summary()"
   ]
  },
  {
   "cell_type": "code",
   "execution_count": null,
   "metadata": {},
   "outputs": [],
   "source": [
    "#Calculamos el coeficiente de correlación R \n",
    "coef_Correl6= np.sqrt(0.017)\n",
    "coef_Correl6"
   ]
  },
  {
   "cell_type": "code",
   "execution_count": null,
   "metadata": {},
   "outputs": [],
   "source": [
    "#Definimos la función del modelo de predicción\n",
    "model7=smf.ols(formula=\"price~x+y+z\", data=df).fit()\n",
    "model7.params"
   ]
  },
  {
   "cell_type": "code",
   "execution_count": null,
   "metadata": {},
   "outputs": [],
   "source": [
    "model7.summary()"
   ]
  },
  {
   "cell_type": "code",
   "execution_count": null,
   "metadata": {},
   "outputs": [],
   "source": [
    "#Calculamos el coeficiente de correlación R \n",
    "coef_Correl7= np.sqrt(0.783)\n",
    "coef_Correl7"
   ]
  },
  {
   "cell_type": "code",
   "execution_count": null,
   "metadata": {},
   "outputs": [],
   "source": [
    "#Definimos la función del modelo de predicción\n",
    "model8=smf.ols(formula=\"price~x+y+z+carat+depth\", data=df).fit()\n",
    "model8.params"
   ]
  },
  {
   "cell_type": "code",
   "execution_count": null,
   "metadata": {},
   "outputs": [],
   "source": [
    "model8.summary()"
   ]
  },
  {
   "cell_type": "code",
   "execution_count": null,
   "metadata": {},
   "outputs": [],
   "source": [
    "#Calculamos el coeficiente de correlación R \n",
    "coef_Correl8= np.sqrt(0.856)\n",
    "coef_Correl8"
   ]
  },
  {
   "cell_type": "code",
   "execution_count": null,
   "metadata": {},
   "outputs": [],
   "source": [
    "#Definimos la función del modelo de predicción\n",
    "model9=smf.ols(formula=\"price~x+y+z+carat+depth+table\", data=df).fit()\n",
    "model9.params"
   ]
  },
  {
   "cell_type": "code",
   "execution_count": null,
   "metadata": {},
   "outputs": [],
   "source": [
    "model9.summary()"
   ]
  },
  {
   "cell_type": "code",
   "execution_count": null,
   "metadata": {},
   "outputs": [],
   "source": [
    "#Calculamos el coeficiente de correlación R \n",
    "coef_Correl9= np.sqrt(0.859)\n",
    "coef_Correl9"
   ]
  },
  {
   "cell_type": "code",
   "execution_count": null,
   "metadata": {},
   "outputs": [],
   "source": [
    "#Definimos la función del modelo de predicción\n",
    "model10=smf.ols(formula=\"price~x+y+z+carat\", data=df).fit()\n",
    "model10.params"
   ]
  },
  {
   "cell_type": "code",
   "execution_count": null,
   "metadata": {},
   "outputs": [],
   "source": [
    "model10.summary()"
   ]
  },
  {
   "cell_type": "code",
   "execution_count": null,
   "metadata": {},
   "outputs": [],
   "source": [
    "#Calculamos el coeficiente de correlación R \n",
    "coef_Correl10= np.sqrt(0.854)\n",
    "coef_Correl10"
   ]
  },
  {
   "cell_type": "code",
   "execution_count": null,
   "metadata": {},
   "outputs": [],
   "source": [
    "#Definimos la función del modelo de predicción\n",
    "model11=smf.ols(formula=\"price~x+y+z+carat+table\", data=df).fit()\n",
    "model11.params"
   ]
  },
  {
   "cell_type": "code",
   "execution_count": null,
   "metadata": {},
   "outputs": [],
   "source": [
    "model11.summary()"
   ]
  },
  {
   "cell_type": "code",
   "execution_count": null,
   "metadata": {},
   "outputs": [],
   "source": [
    "#Calculamos el coeficiente de correlación R \n",
    "coef_Correl11= np.sqrt(0.856)\n",
    "coef_Correl11"
   ]
  },
  {
   "cell_type": "code",
   "execution_count": null,
   "metadata": {},
   "outputs": [],
   "source": [
    "from turtle import color\n",
    "sns.scatterplot(x='price', y='carat', color=\"blue\", data=df)"
   ]
  },
  {
   "cell_type": "code",
   "execution_count": null,
   "metadata": {},
   "outputs": [],
   "source": [
    "sns.scatterplot(x='price', y='depth', color=\"red\", data=df)"
   ]
  },
  {
   "cell_type": "code",
   "execution_count": null,
   "metadata": {},
   "outputs": [],
   "source": [
    "sns.scatterplot(x='price', y='table', color=\"yellow\", data=df)"
   ]
  },
  {
   "cell_type": "code",
   "execution_count": null,
   "metadata": {},
   "outputs": [],
   "source": [
    "sns.scatterplot(x='price', y='x', color=\"pink\", data=df)"
   ]
  },
  {
   "cell_type": "code",
   "execution_count": null,
   "metadata": {},
   "outputs": [],
   "source": [
    "sns.scatterplot(x='price', y='y', color=\"green\", data=df)"
   ]
  },
  {
   "cell_type": "code",
   "execution_count": null,
   "metadata": {},
   "outputs": [],
   "source": [
    "sns.scatterplot(x='price', y='z', color=\"purple\", data=df)"
   ]
  },
  {
   "cell_type": "code",
   "execution_count": null,
   "metadata": {},
   "outputs": [],
   "source": [
    "#Se grafican las dispersiones entre las variables\n",
    "sns.pairplot(df)"
   ]
  },
  {
   "cell_type": "code",
   "execution_count": null,
   "metadata": {},
   "outputs": [],
   "source": [
    "#Se obtienen los coeficientes de correlación entre las diferentes variables\n",
    "Corr_Factors=df.corr()\n",
    "Corr_Factors"
   ]
  },
  {
   "cell_type": "code",
   "execution_count": null,
   "metadata": {},
   "outputs": [],
   "source": [
    "Corr_Factorsx= abs(Corr_Factors)\n",
    "Corr_Factorsx"
   ]
  },
  {
   "cell_type": "code",
   "execution_count": null,
   "metadata": {},
   "outputs": [],
   "source": [
    "#Se grafican los mapas de calor de los coeficientes de correlación\n",
    "Heat_Map= sns.heatmap(Corr_Factorsx, cmap = 'coolwarm')  \n",
    "Heat_Map"
   ]
  },
  {
   "cell_type": "code",
   "execution_count": null,
   "metadata": {},
   "outputs": [],
   "source": [
    "Heat_Map=sns.heatmap(Corr_Factors1, cmap=\"Y1GnBu\", annot=True, fmt=\".2f\")\n",
    "Heat_Map"
   ]
  }
 ],
 "metadata": {
  "kernelspec": {
   "display_name": "Python 3.10.6 64-bit",
   "language": "python",
   "name": "python3"
  },
  "language_info": {
   "codemirror_mode": {
    "name": "ipython",
    "version": 3
   },
   "file_extension": ".py",
   "mimetype": "text/x-python",
   "name": "python",
   "nbconvert_exporter": "python",
   "pygments_lexer": "ipython3",
   "version": "3.10.6"
  },
  "orig_nbformat": 4,
  "vscode": {
   "interpreter": {
    "hash": "aee8b7b246df8f9039afb4144a1f6fd8d2ca17a180786b69acc140d282b71a49"
   }
  }
 },
 "nbformat": 4,
 "nbformat_minor": 2
}
